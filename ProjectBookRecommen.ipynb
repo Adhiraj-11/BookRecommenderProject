{
  "nbformat": 4,
  "nbformat_minor": 0,
  "metadata": {
    "colab": {
      "name": "ProjectBookRecommen.ipynb",
      "provenance": [],
      "authorship_tag": "ABX9TyMe8ei/uYKS9x7966eR7LRy",
      "include_colab_link": true
    },
    "kernelspec": {
      "name": "python3",
      "display_name": "Python 3"
    },
    "language_info": {
      "name": "python"
    },
    "accelerator": "GPU",
    "gpuClass": "standard"
  },
  "cells": [
    {
      "cell_type": "markdown",
      "metadata": {
        "id": "view-in-github",
        "colab_type": "text"
      },
      "source": [
        "<a href=\"https://colab.research.google.com/github/Adhiraj-11/blank/blob/main/ProjectBookRecommen.ipynb\" target=\"_parent\"><img src=\"https://colab.research.google.com/assets/colab-badge.svg\" alt=\"Open In Colab\"/></a>"
      ]
    },
    {
      "cell_type": "code",
      "execution_count": 1,
      "metadata": {
        "id": "6I_PnOYpa5oz"
      },
      "outputs": [],
      "source": [
        "import numpy as np\n",
        "import pandas as pd\n",
        "import matplotlib.pyplot as plt\n",
        "import os\n",
        "import warnings\n",
        "import tensorflow.keras as tf\n",
        "warnings.filterwarnings('ignore')\n",
        "%matplotlib inline\n"
      ]
    },
    {
      "cell_type": "code",
      "source": [
        "books_df = pd.read_csv(\"https://raw.githubusercontent.com/Adhiraj-11/blank/main/dataset/Books.csv\") \n",
        "ratings_df = pd.read_csv(\"https://raw.githubusercontent.com/Adhiraj-11/blank/main/dataset/Ratings.csv\")"
      ],
      "metadata": {
        "id": "zm1OdXBQbO1X"
      },
      "execution_count": 2,
      "outputs": []
    },
    {
      "cell_type": "code",
      "source": [
        "ratings_df.head()"
      ],
      "metadata": {
        "colab": {
          "base_uri": "https://localhost:8080/",
          "height": 206
        },
        "id": "Ud72v0DVbSTq",
        "outputId": "1375b9af-117f-440a-ac7d-d8e6c480dfba"
      },
      "execution_count": 3,
      "outputs": [
        {
          "output_type": "execute_result",
          "data": {
            "text/plain": [
              "   book_id  user_id  rating\n",
              "0        1      314       5\n",
              "1        1      439       3\n",
              "2        1      588       5\n",
              "3        1     1169       4\n",
              "4        1     1185       4"
            ],
            "text/html": [
              "\n",
              "  <div id=\"df-d3bbdcb8-0386-4c70-bdc3-30d5a6947850\">\n",
              "    <div class=\"colab-df-container\">\n",
              "      <div>\n",
              "<style scoped>\n",
              "    .dataframe tbody tr th:only-of-type {\n",
              "        vertical-align: middle;\n",
              "    }\n",
              "\n",
              "    .dataframe tbody tr th {\n",
              "        vertical-align: top;\n",
              "    }\n",
              "\n",
              "    .dataframe thead th {\n",
              "        text-align: right;\n",
              "    }\n",
              "</style>\n",
              "<table border=\"1\" class=\"dataframe\">\n",
              "  <thead>\n",
              "    <tr style=\"text-align: right;\">\n",
              "      <th></th>\n",
              "      <th>book_id</th>\n",
              "      <th>user_id</th>\n",
              "      <th>rating</th>\n",
              "    </tr>\n",
              "  </thead>\n",
              "  <tbody>\n",
              "    <tr>\n",
              "      <th>0</th>\n",
              "      <td>1</td>\n",
              "      <td>314</td>\n",
              "      <td>5</td>\n",
              "    </tr>\n",
              "    <tr>\n",
              "      <th>1</th>\n",
              "      <td>1</td>\n",
              "      <td>439</td>\n",
              "      <td>3</td>\n",
              "    </tr>\n",
              "    <tr>\n",
              "      <th>2</th>\n",
              "      <td>1</td>\n",
              "      <td>588</td>\n",
              "      <td>5</td>\n",
              "    </tr>\n",
              "    <tr>\n",
              "      <th>3</th>\n",
              "      <td>1</td>\n",
              "      <td>1169</td>\n",
              "      <td>4</td>\n",
              "    </tr>\n",
              "    <tr>\n",
              "      <th>4</th>\n",
              "      <td>1</td>\n",
              "      <td>1185</td>\n",
              "      <td>4</td>\n",
              "    </tr>\n",
              "  </tbody>\n",
              "</table>\n",
              "</div>\n",
              "      <button class=\"colab-df-convert\" onclick=\"convertToInteractive('df-d3bbdcb8-0386-4c70-bdc3-30d5a6947850')\"\n",
              "              title=\"Convert this dataframe to an interactive table.\"\n",
              "              style=\"display:none;\">\n",
              "        \n",
              "  <svg xmlns=\"http://www.w3.org/2000/svg\" height=\"24px\"viewBox=\"0 0 24 24\"\n",
              "       width=\"24px\">\n",
              "    <path d=\"M0 0h24v24H0V0z\" fill=\"none\"/>\n",
              "    <path d=\"M18.56 5.44l.94 2.06.94-2.06 2.06-.94-2.06-.94-.94-2.06-.94 2.06-2.06.94zm-11 1L8.5 8.5l.94-2.06 2.06-.94-2.06-.94L8.5 2.5l-.94 2.06-2.06.94zm10 10l.94 2.06.94-2.06 2.06-.94-2.06-.94-.94-2.06-.94 2.06-2.06.94z\"/><path d=\"M17.41 7.96l-1.37-1.37c-.4-.4-.92-.59-1.43-.59-.52 0-1.04.2-1.43.59L10.3 9.45l-7.72 7.72c-.78.78-.78 2.05 0 2.83L4 21.41c.39.39.9.59 1.41.59.51 0 1.02-.2 1.41-.59l7.78-7.78 2.81-2.81c.8-.78.8-2.07 0-2.86zM5.41 20L4 18.59l7.72-7.72 1.47 1.35L5.41 20z\"/>\n",
              "  </svg>\n",
              "      </button>\n",
              "      \n",
              "  <style>\n",
              "    .colab-df-container {\n",
              "      display:flex;\n",
              "      flex-wrap:wrap;\n",
              "      gap: 12px;\n",
              "    }\n",
              "\n",
              "    .colab-df-convert {\n",
              "      background-color: #E8F0FE;\n",
              "      border: none;\n",
              "      border-radius: 50%;\n",
              "      cursor: pointer;\n",
              "      display: none;\n",
              "      fill: #1967D2;\n",
              "      height: 32px;\n",
              "      padding: 0 0 0 0;\n",
              "      width: 32px;\n",
              "    }\n",
              "\n",
              "    .colab-df-convert:hover {\n",
              "      background-color: #E2EBFA;\n",
              "      box-shadow: 0px 1px 2px rgba(60, 64, 67, 0.3), 0px 1px 3px 1px rgba(60, 64, 67, 0.15);\n",
              "      fill: #174EA6;\n",
              "    }\n",
              "\n",
              "    [theme=dark] .colab-df-convert {\n",
              "      background-color: #3B4455;\n",
              "      fill: #D2E3FC;\n",
              "    }\n",
              "\n",
              "    [theme=dark] .colab-df-convert:hover {\n",
              "      background-color: #434B5C;\n",
              "      box-shadow: 0px 1px 3px 1px rgba(0, 0, 0, 0.15);\n",
              "      filter: drop-shadow(0px 1px 2px rgba(0, 0, 0, 0.3));\n",
              "      fill: #FFFFFF;\n",
              "    }\n",
              "  </style>\n",
              "\n",
              "      <script>\n",
              "        const buttonEl =\n",
              "          document.querySelector('#df-d3bbdcb8-0386-4c70-bdc3-30d5a6947850 button.colab-df-convert');\n",
              "        buttonEl.style.display =\n",
              "          google.colab.kernel.accessAllowed ? 'block' : 'none';\n",
              "\n",
              "        async function convertToInteractive(key) {\n",
              "          const element = document.querySelector('#df-d3bbdcb8-0386-4c70-bdc3-30d5a6947850');\n",
              "          const dataTable =\n",
              "            await google.colab.kernel.invokeFunction('convertToInteractive',\n",
              "                                                     [key], {});\n",
              "          if (!dataTable) return;\n",
              "\n",
              "          const docLinkHtml = 'Like what you see? Visit the ' +\n",
              "            '<a target=\"_blank\" href=https://colab.research.google.com/notebooks/data_table.ipynb>data table notebook</a>'\n",
              "            + ' to learn more about interactive tables.';\n",
              "          element.innerHTML = '';\n",
              "          dataTable['output_type'] = 'display_data';\n",
              "          await google.colab.output.renderOutput(dataTable, element);\n",
              "          const docLink = document.createElement('div');\n",
              "          docLink.innerHTML = docLinkHtml;\n",
              "          element.appendChild(docLink);\n",
              "        }\n",
              "      </script>\n",
              "    </div>\n",
              "  </div>\n",
              "  "
            ]
          },
          "metadata": {},
          "execution_count": 3
        }
      ]
    },
    {
      "cell_type": "code",
      "source": [
        "books_df.head()"
      ],
      "metadata": {
        "colab": {
          "base_uri": "https://localhost:8080/",
          "height": 421
        },
        "id": "PgSY7kuhbdlO",
        "outputId": "d8eeab13-2b26-468b-9527-269a572d2195"
      },
      "execution_count": 4,
      "outputs": [
        {
          "output_type": "execute_result",
          "data": {
            "text/plain": [
              "   id  book_id  best_book_id  work_id  books_count       isbn        isbn13  \\\n",
              "0   1  2767052       2767052  2792775          272  439023483  9.780439e+12   \n",
              "1   2        3             3  4640799          491  439554934  9.780440e+12   \n",
              "2   3    41865         41865  3212258          226  316015849  9.780316e+12   \n",
              "3   4     2657          2657  3275794          487   61120081  9.780061e+12   \n",
              "4   5     4671          4671   245494         1356  743273567  9.780743e+12   \n",
              "\n",
              "                       authors  original_publication_year  \\\n",
              "0              Suzanne Collins                     2008.0   \n",
              "1  J.K. Rowling, Mary GrandPré                     1997.0   \n",
              "2              Stephenie Meyer                     2005.0   \n",
              "3                   Harper Lee                     1960.0   \n",
              "4          F. Scott Fitzgerald                     1925.0   \n",
              "\n",
              "                             original_title  ... ratings_count  \\\n",
              "0                          The Hunger Games  ...       4780653   \n",
              "1  Harry Potter and the Philosopher's Stone  ...       4602479   \n",
              "2                                  Twilight  ...       3866839   \n",
              "3                     To Kill a Mockingbird  ...       3198671   \n",
              "4                          The Great Gatsby  ...       2683664   \n",
              "\n",
              "  work_ratings_count  work_text_reviews_count  ratings_1  ratings_2  \\\n",
              "0            4942365                   155254      66715     127936   \n",
              "1            4800065                    75867      75504     101676   \n",
              "2            3916824                    95009     456191     436802   \n",
              "3            3340896                    72586      60427     117415   \n",
              "4            2773745                    51992      86236     197621   \n",
              "\n",
              "   ratings_3  ratings_4  ratings_5  \\\n",
              "0     560092    1481305    2706317   \n",
              "1     455024    1156318    3011543   \n",
              "2     793319     875073    1355439   \n",
              "3     446835    1001952    1714267   \n",
              "4     606158     936012     947718   \n",
              "\n",
              "                                           image_url  \\\n",
              "0  https://images.gr-assets.com/books/1447303603m...   \n",
              "1  https://images.gr-assets.com/books/1474154022m...   \n",
              "2  https://images.gr-assets.com/books/1361039443m...   \n",
              "3  https://images.gr-assets.com/books/1361975680m...   \n",
              "4  https://images.gr-assets.com/books/1490528560m...   \n",
              "\n",
              "                                     small_image_url  \n",
              "0  https://images.gr-assets.com/books/1447303603s...  \n",
              "1  https://images.gr-assets.com/books/1474154022s...  \n",
              "2  https://images.gr-assets.com/books/1361039443s...  \n",
              "3  https://images.gr-assets.com/books/1361975680s...  \n",
              "4  https://images.gr-assets.com/books/1490528560s...  \n",
              "\n",
              "[5 rows x 23 columns]"
            ],
            "text/html": [
              "\n",
              "  <div id=\"df-827b9646-cfff-46d9-8d18-79446eaab9ef\">\n",
              "    <div class=\"colab-df-container\">\n",
              "      <div>\n",
              "<style scoped>\n",
              "    .dataframe tbody tr th:only-of-type {\n",
              "        vertical-align: middle;\n",
              "    }\n",
              "\n",
              "    .dataframe tbody tr th {\n",
              "        vertical-align: top;\n",
              "    }\n",
              "\n",
              "    .dataframe thead th {\n",
              "        text-align: right;\n",
              "    }\n",
              "</style>\n",
              "<table border=\"1\" class=\"dataframe\">\n",
              "  <thead>\n",
              "    <tr style=\"text-align: right;\">\n",
              "      <th></th>\n",
              "      <th>id</th>\n",
              "      <th>book_id</th>\n",
              "      <th>best_book_id</th>\n",
              "      <th>work_id</th>\n",
              "      <th>books_count</th>\n",
              "      <th>isbn</th>\n",
              "      <th>isbn13</th>\n",
              "      <th>authors</th>\n",
              "      <th>original_publication_year</th>\n",
              "      <th>original_title</th>\n",
              "      <th>...</th>\n",
              "      <th>ratings_count</th>\n",
              "      <th>work_ratings_count</th>\n",
              "      <th>work_text_reviews_count</th>\n",
              "      <th>ratings_1</th>\n",
              "      <th>ratings_2</th>\n",
              "      <th>ratings_3</th>\n",
              "      <th>ratings_4</th>\n",
              "      <th>ratings_5</th>\n",
              "      <th>image_url</th>\n",
              "      <th>small_image_url</th>\n",
              "    </tr>\n",
              "  </thead>\n",
              "  <tbody>\n",
              "    <tr>\n",
              "      <th>0</th>\n",
              "      <td>1</td>\n",
              "      <td>2767052</td>\n",
              "      <td>2767052</td>\n",
              "      <td>2792775</td>\n",
              "      <td>272</td>\n",
              "      <td>439023483</td>\n",
              "      <td>9.780439e+12</td>\n",
              "      <td>Suzanne Collins</td>\n",
              "      <td>2008.0</td>\n",
              "      <td>The Hunger Games</td>\n",
              "      <td>...</td>\n",
              "      <td>4780653</td>\n",
              "      <td>4942365</td>\n",
              "      <td>155254</td>\n",
              "      <td>66715</td>\n",
              "      <td>127936</td>\n",
              "      <td>560092</td>\n",
              "      <td>1481305</td>\n",
              "      <td>2706317</td>\n",
              "      <td>https://images.gr-assets.com/books/1447303603m...</td>\n",
              "      <td>https://images.gr-assets.com/books/1447303603s...</td>\n",
              "    </tr>\n",
              "    <tr>\n",
              "      <th>1</th>\n",
              "      <td>2</td>\n",
              "      <td>3</td>\n",
              "      <td>3</td>\n",
              "      <td>4640799</td>\n",
              "      <td>491</td>\n",
              "      <td>439554934</td>\n",
              "      <td>9.780440e+12</td>\n",
              "      <td>J.K. Rowling, Mary GrandPré</td>\n",
              "      <td>1997.0</td>\n",
              "      <td>Harry Potter and the Philosopher's Stone</td>\n",
              "      <td>...</td>\n",
              "      <td>4602479</td>\n",
              "      <td>4800065</td>\n",
              "      <td>75867</td>\n",
              "      <td>75504</td>\n",
              "      <td>101676</td>\n",
              "      <td>455024</td>\n",
              "      <td>1156318</td>\n",
              "      <td>3011543</td>\n",
              "      <td>https://images.gr-assets.com/books/1474154022m...</td>\n",
              "      <td>https://images.gr-assets.com/books/1474154022s...</td>\n",
              "    </tr>\n",
              "    <tr>\n",
              "      <th>2</th>\n",
              "      <td>3</td>\n",
              "      <td>41865</td>\n",
              "      <td>41865</td>\n",
              "      <td>3212258</td>\n",
              "      <td>226</td>\n",
              "      <td>316015849</td>\n",
              "      <td>9.780316e+12</td>\n",
              "      <td>Stephenie Meyer</td>\n",
              "      <td>2005.0</td>\n",
              "      <td>Twilight</td>\n",
              "      <td>...</td>\n",
              "      <td>3866839</td>\n",
              "      <td>3916824</td>\n",
              "      <td>95009</td>\n",
              "      <td>456191</td>\n",
              "      <td>436802</td>\n",
              "      <td>793319</td>\n",
              "      <td>875073</td>\n",
              "      <td>1355439</td>\n",
              "      <td>https://images.gr-assets.com/books/1361039443m...</td>\n",
              "      <td>https://images.gr-assets.com/books/1361039443s...</td>\n",
              "    </tr>\n",
              "    <tr>\n",
              "      <th>3</th>\n",
              "      <td>4</td>\n",
              "      <td>2657</td>\n",
              "      <td>2657</td>\n",
              "      <td>3275794</td>\n",
              "      <td>487</td>\n",
              "      <td>61120081</td>\n",
              "      <td>9.780061e+12</td>\n",
              "      <td>Harper Lee</td>\n",
              "      <td>1960.0</td>\n",
              "      <td>To Kill a Mockingbird</td>\n",
              "      <td>...</td>\n",
              "      <td>3198671</td>\n",
              "      <td>3340896</td>\n",
              "      <td>72586</td>\n",
              "      <td>60427</td>\n",
              "      <td>117415</td>\n",
              "      <td>446835</td>\n",
              "      <td>1001952</td>\n",
              "      <td>1714267</td>\n",
              "      <td>https://images.gr-assets.com/books/1361975680m...</td>\n",
              "      <td>https://images.gr-assets.com/books/1361975680s...</td>\n",
              "    </tr>\n",
              "    <tr>\n",
              "      <th>4</th>\n",
              "      <td>5</td>\n",
              "      <td>4671</td>\n",
              "      <td>4671</td>\n",
              "      <td>245494</td>\n",
              "      <td>1356</td>\n",
              "      <td>743273567</td>\n",
              "      <td>9.780743e+12</td>\n",
              "      <td>F. Scott Fitzgerald</td>\n",
              "      <td>1925.0</td>\n",
              "      <td>The Great Gatsby</td>\n",
              "      <td>...</td>\n",
              "      <td>2683664</td>\n",
              "      <td>2773745</td>\n",
              "      <td>51992</td>\n",
              "      <td>86236</td>\n",
              "      <td>197621</td>\n",
              "      <td>606158</td>\n",
              "      <td>936012</td>\n",
              "      <td>947718</td>\n",
              "      <td>https://images.gr-assets.com/books/1490528560m...</td>\n",
              "      <td>https://images.gr-assets.com/books/1490528560s...</td>\n",
              "    </tr>\n",
              "  </tbody>\n",
              "</table>\n",
              "<p>5 rows × 23 columns</p>\n",
              "</div>\n",
              "      <button class=\"colab-df-convert\" onclick=\"convertToInteractive('df-827b9646-cfff-46d9-8d18-79446eaab9ef')\"\n",
              "              title=\"Convert this dataframe to an interactive table.\"\n",
              "              style=\"display:none;\">\n",
              "        \n",
              "  <svg xmlns=\"http://www.w3.org/2000/svg\" height=\"24px\"viewBox=\"0 0 24 24\"\n",
              "       width=\"24px\">\n",
              "    <path d=\"M0 0h24v24H0V0z\" fill=\"none\"/>\n",
              "    <path d=\"M18.56 5.44l.94 2.06.94-2.06 2.06-.94-2.06-.94-.94-2.06-.94 2.06-2.06.94zm-11 1L8.5 8.5l.94-2.06 2.06-.94-2.06-.94L8.5 2.5l-.94 2.06-2.06.94zm10 10l.94 2.06.94-2.06 2.06-.94-2.06-.94-.94-2.06-.94 2.06-2.06.94z\"/><path d=\"M17.41 7.96l-1.37-1.37c-.4-.4-.92-.59-1.43-.59-.52 0-1.04.2-1.43.59L10.3 9.45l-7.72 7.72c-.78.78-.78 2.05 0 2.83L4 21.41c.39.39.9.59 1.41.59.51 0 1.02-.2 1.41-.59l7.78-7.78 2.81-2.81c.8-.78.8-2.07 0-2.86zM5.41 20L4 18.59l7.72-7.72 1.47 1.35L5.41 20z\"/>\n",
              "  </svg>\n",
              "      </button>\n",
              "      \n",
              "  <style>\n",
              "    .colab-df-container {\n",
              "      display:flex;\n",
              "      flex-wrap:wrap;\n",
              "      gap: 12px;\n",
              "    }\n",
              "\n",
              "    .colab-df-convert {\n",
              "      background-color: #E8F0FE;\n",
              "      border: none;\n",
              "      border-radius: 50%;\n",
              "      cursor: pointer;\n",
              "      display: none;\n",
              "      fill: #1967D2;\n",
              "      height: 32px;\n",
              "      padding: 0 0 0 0;\n",
              "      width: 32px;\n",
              "    }\n",
              "\n",
              "    .colab-df-convert:hover {\n",
              "      background-color: #E2EBFA;\n",
              "      box-shadow: 0px 1px 2px rgba(60, 64, 67, 0.3), 0px 1px 3px 1px rgba(60, 64, 67, 0.15);\n",
              "      fill: #174EA6;\n",
              "    }\n",
              "\n",
              "    [theme=dark] .colab-df-convert {\n",
              "      background-color: #3B4455;\n",
              "      fill: #D2E3FC;\n",
              "    }\n",
              "\n",
              "    [theme=dark] .colab-df-convert:hover {\n",
              "      background-color: #434B5C;\n",
              "      box-shadow: 0px 1px 3px 1px rgba(0, 0, 0, 0.15);\n",
              "      filter: drop-shadow(0px 1px 2px rgba(0, 0, 0, 0.3));\n",
              "      fill: #FFFFFF;\n",
              "    }\n",
              "  </style>\n",
              "\n",
              "      <script>\n",
              "        const buttonEl =\n",
              "          document.querySelector('#df-827b9646-cfff-46d9-8d18-79446eaab9ef button.colab-df-convert');\n",
              "        buttonEl.style.display =\n",
              "          google.colab.kernel.accessAllowed ? 'block' : 'none';\n",
              "\n",
              "        async function convertToInteractive(key) {\n",
              "          const element = document.querySelector('#df-827b9646-cfff-46d9-8d18-79446eaab9ef');\n",
              "          const dataTable =\n",
              "            await google.colab.kernel.invokeFunction('convertToInteractive',\n",
              "                                                     [key], {});\n",
              "          if (!dataTable) return;\n",
              "\n",
              "          const docLinkHtml = 'Like what you see? Visit the ' +\n",
              "            '<a target=\"_blank\" href=https://colab.research.google.com/notebooks/data_table.ipynb>data table notebook</a>'\n",
              "            + ' to learn more about interactive tables.';\n",
              "          element.innerHTML = '';\n",
              "          dataTable['output_type'] = 'display_data';\n",
              "          await google.colab.output.renderOutput(dataTable, element);\n",
              "          const docLink = document.createElement('div');\n",
              "          docLink.innerHTML = docLinkHtml;\n",
              "          element.appendChild(docLink);\n",
              "        }\n",
              "      </script>\n",
              "    </div>\n",
              "  </div>\n",
              "  "
            ]
          },
          "metadata": {},
          "execution_count": 4
        }
      ]
    },
    {
      "cell_type": "markdown",
      "source": [
        "###Books dataset has 23 columns and and contains different data about the books.\n"
      ],
      "metadata": {
        "id": "g9r4Ay6BbvP3"
      }
    },
    {
      "cell_type": "code",
      "source": [
        "print(ratings_df.shape)"
      ],
      "metadata": {
        "colab": {
          "base_uri": "https://localhost:8080/"
        },
        "id": "bfPpI0mnbpm6",
        "outputId": "8867aa53-8fc5-431c-f3fc-bbd04a3dc298"
      },
      "execution_count": 5,
      "outputs": [
        {
          "output_type": "stream",
          "name": "stdout",
          "text": [
            "(981756, 3)\n"
          ]
        }
      ]
    },
    {
      "cell_type": "code",
      "source": [
        "print(ratings_df.user_id.nunique())\n",
        "print(ratings_df.book_id.nunique())"
      ],
      "metadata": {
        "colab": {
          "base_uri": "https://localhost:8080/"
        },
        "id": "MfcD5LkXcvUI",
        "outputId": "373945dd-bcd1-48ac-e784-eff4ac8b898c"
      },
      "execution_count": 6,
      "outputs": [
        {
          "output_type": "stream",
          "name": "stdout",
          "text": [
            "53424\n",
            "10000\n"
          ]
        }
      ]
    },
    {
      "cell_type": "markdown",
      "source": [
        "####There are over 900,000 ratings given by 53,424 users to about 10,000 books\n",
        "\n",
        "\n",
        "\n"
      ],
      "metadata": {
        "id": "kUfoqDypc6FT"
      }
    },
    {
      "cell_type": "code",
      "source": [
        "ratings_df.isna().sum()"
      ],
      "metadata": {
        "colab": {
          "base_uri": "https://localhost:8080/"
        },
        "id": "Mzsbb1L6cxSN",
        "outputId": "e5cfa758-a691-491b-fdb4-52e1a4300f2b"
      },
      "execution_count": 7,
      "outputs": [
        {
          "output_type": "execute_result",
          "data": {
            "text/plain": [
              "book_id    0\n",
              "user_id    0\n",
              "rating     0\n",
              "dtype: int64"
            ]
          },
          "metadata": {},
          "execution_count": 7
        }
      ]
    },
    {
      "cell_type": "code",
      "source": [
        "from sklearn.model_selection import train_test_split\n",
        "Xtrain, Xtest = train_test_split(ratings_df, test_size=0.2, random_state=1)"
      ],
      "metadata": {
        "id": "JB8Jsj8sc0IM"
      },
      "execution_count": 8,
      "outputs": []
    },
    {
      "cell_type": "code",
      "source": [
        "print(f\"Shape of train data: {Xtrain.shape}\")\n",
        "print(f\"Shape of test data: {Xtest.shape}\")"
      ],
      "metadata": {
        "colab": {
          "base_uri": "https://localhost:8080/"
        },
        "id": "bfICZqVIdMNb",
        "outputId": "0c82ff2c-9d15-470a-8041-00ee1c2e9768"
      },
      "execution_count": 9,
      "outputs": [
        {
          "output_type": "stream",
          "name": "stdout",
          "text": [
            "Shape of train data: (785404, 3)\n",
            "Shape of test data: (196352, 3)\n"
          ]
        }
      ]
    },
    {
      "cell_type": "markdown",
      "source": [
        "#Building the model"
      ],
      "metadata": {
        "id": "pqOTha6ndwz-"
      }
    },
    {
      "cell_type": "code",
      "source": [
        "#Get the number of unique entities in books and users columns\n",
        "nbook_id = ratings_df.book_id.nunique()\n",
        "nuser_id = ratings_df.user_id.nunique()"
      ],
      "metadata": {
        "id": "qFXSwFz1dwS0"
      },
      "execution_count": 10,
      "outputs": []
    },
    {
      "cell_type": "code",
      "source": [
        "#Book input network\n",
        "input_books = tf.layers.Input(shape=[1])\n",
        "embed_books = tf.layers.Embedding(nbook_id + 1,15)(input_books)\n",
        "books_out = tf.layers.Flatten()(embed_books)\n",
        "\n",
        "#user input network\n",
        "input_users = tf.layers.Input(shape=[1])\n",
        "embed_users = tf.layers.Embedding(nuser_id + 1,15)(input_users)\n",
        "users_out = tf.layers.Flatten()(embed_users)\n",
        "\n",
        "conc_layer = tf.layers.Concatenate()([books_out, users_out])\n",
        "x = tf.layers.Dense(128, activation='relu')(conc_layer)\n",
        "x_out = x = tf.layers.Dense(1, activation='relu')(x)\n",
        "model = tf.Model([input_books, input_users], x_out)"
      ],
      "metadata": {
        "id": "ocpzruVCdsXa"
      },
      "execution_count": 11,
      "outputs": []
    },
    {
      "cell_type": "code",
      "source": [
        "opt = tf.optimizers.Adam(learning_rate=0.001)\n",
        "model.compile(optimizer=opt, loss='mean_squared_error')\n",
        "model.summary()"
      ],
      "metadata": {
        "colab": {
          "base_uri": "https://localhost:8080/"
        },
        "id": "pY2HDQRqptEP",
        "outputId": "549f17f3-502c-49a1-c7e2-579e0d39fd73"
      },
      "execution_count": 12,
      "outputs": [
        {
          "output_type": "stream",
          "name": "stdout",
          "text": [
            "Model: \"model\"\n",
            "__________________________________________________________________________________________________\n",
            " Layer (type)                   Output Shape         Param #     Connected to                     \n",
            "==================================================================================================\n",
            " input_1 (InputLayer)           [(None, 1)]          0           []                               \n",
            "                                                                                                  \n",
            " input_2 (InputLayer)           [(None, 1)]          0           []                               \n",
            "                                                                                                  \n",
            " embedding (Embedding)          (None, 1, 15)        150015      ['input_1[0][0]']                \n",
            "                                                                                                  \n",
            " embedding_1 (Embedding)        (None, 1, 15)        801375      ['input_2[0][0]']                \n",
            "                                                                                                  \n",
            " flatten (Flatten)              (None, 15)           0           ['embedding[0][0]']              \n",
            "                                                                                                  \n",
            " flatten_1 (Flatten)            (None, 15)           0           ['embedding_1[0][0]']            \n",
            "                                                                                                  \n",
            " concatenate (Concatenate)      (None, 30)           0           ['flatten[0][0]',                \n",
            "                                                                  'flatten_1[0][0]']              \n",
            "                                                                                                  \n",
            " dense (Dense)                  (None, 128)          3968        ['concatenate[0][0]']            \n",
            "                                                                                                  \n",
            " dense_1 (Dense)                (None, 1)            129         ['dense[0][0]']                  \n",
            "                                                                                                  \n",
            "==================================================================================================\n",
            "Total params: 955,487\n",
            "Trainable params: 955,487\n",
            "Non-trainable params: 0\n",
            "__________________________________________________________________________________________________\n"
          ]
        }
      ]
    },
    {
      "cell_type": "code",
      "source": [
        "hist = model.fit([Xtrain.book_id, Xtrain.user_id], Xtrain.rating, \n",
        "                 batch_size=64, \n",
        "                 epochs=5, \n",
        "                 verbose=1,\n",
        "                 validation_data=([Xtest.book_id, Xtest.user_id], Xtest.rating))"
      ],
      "metadata": {
        "colab": {
          "base_uri": "https://localhost:8080/"
        },
        "id": "Y3PCOrCMFOMC",
        "outputId": "a555434a-981c-4513-84dc-489af9f5746d"
      },
      "execution_count": 13,
      "outputs": [
        {
          "output_type": "stream",
          "name": "stdout",
          "text": [
            "Epoch 1/5\n",
            "12272/12272 [==============================] - 58s 4ms/step - loss: 0.8612 - val_loss: 0.7122\n",
            "Epoch 2/5\n",
            "12272/12272 [==============================] - 49s 4ms/step - loss: 0.6840 - val_loss: 0.7019\n",
            "Epoch 3/5\n",
            "12272/12272 [==============================] - 47s 4ms/step - loss: 0.6488 - val_loss: 0.6974\n",
            "Epoch 4/5\n",
            "12272/12272 [==============================] - 48s 4ms/step - loss: 0.6189 - val_loss: 0.6992\n",
            "Epoch 5/5\n",
            "12272/12272 [==============================] - 46s 4ms/step - loss: 0.5900 - val_loss: 0.7043\n"
          ]
        }
      ]
    },
    {
      "cell_type": "code",
      "source": [
        "train_loss = hist.history['loss']\n",
        "val_loss = hist.history['val_loss']\n",
        "plt.plot(train_loss, color='r', label='Train Loss')\n",
        "plt.plot(val_loss, color='b', label='Validation Loss')\n",
        "plt.title(\"Train and Validation Loss Curve\")\n",
        "plt.legend()\n",
        "plt.show()"
      ],
      "metadata": {
        "colab": {
          "base_uri": "https://localhost:8080/",
          "height": 281
        },
        "id": "FWoxfNTHFRwu",
        "outputId": "66f5bf06-554e-405b-a44d-24b48724c860"
      },
      "execution_count": 14,
      "outputs": [
        {
          "output_type": "display_data",
          "data": {
            "text/plain": [
              "<Figure size 432x288 with 1 Axes>"
            ],
            "image/png": "[encoded data removed]"
          },
          "metadata": {
            "needs_background": "light"
          }
        }
      ]
    },
    {
      "cell_type": "code",
      "source": [
        "#save the model\n",
        "model.save('model')"
      ],
      "metadata": {
        "id": "Ptd1ytUGFSSW"
      },
      "execution_count": 15,
      "outputs": []
    },
    {
      "cell_type": "code",
      "source": [
        "books_df_copy = books_df.copy()\n",
        "books_df_copy = books_df_copy.set_index(\"book_id\")"
      ],
      "metadata": {
        "id": "iWppDs1QNE2c"
      },
      "execution_count": 16,
      "outputs": []
    },
    {
      "cell_type": "code",
      "source": [
        "# Extract embeddings\n",
        "book_em = model.get_layer('embedding')\n",
        "book_em_weights = book_em.get_weights()[0]\n",
        "book_em_weights.shape"
      ],
      "metadata": {
        "colab": {
          "base_uri": "https://localhost:8080/"
        },
        "id": "1kyG7Sd8NKY4",
        "outputId": "f73c4280-96ef-455e-88db-fe4ac9d15078"
      },
      "execution_count": 17,
      "outputs": [
        {
          "output_type": "execute_result",
          "data": {
            "text/plain": [
              "(10001, 15)"
            ]
          },
          "metadata": {},
          "execution_count": 17
        }
      ]
    },
    {
      "cell_type": "code",
      "source": [
        "b_id =list(ratings_df.book_id.unique())\n",
        "# b_id.remove(10000)\n",
        "# dict_map = {}\n",
        "# for i in b_id:\n",
        "#     dict_map[i] = books_df_copy.iloc[i]['title']\n",
        "    \n",
        "# out_v = open('vecs.tsv', 'w')\n",
        "# out_m = open('meta.tsv', 'w')\n",
        "# for i in b_id:\n",
        "#     book = dict_map[i]\n",
        "#     embeddings = book_em_weights[i]\n",
        "#     out_m.write(book + \"\\n\")\n",
        "#     out_v.write('\\t'.join([str(x) for x in embeddings]) + \"\\n\")\n",
        "    \n",
        "# out_v.close()\n",
        "# out_m.close()"
      ],
      "metadata": {
        "id": "57P8s8NEM8SY"
      },
      "execution_count": 18,
      "outputs": []
    },
    {
      "cell_type": "code",
      "source": [
        "#Making recommendations for user 100\n",
        "book_arr = np.array(b_id) #get all book IDs\n",
        "user = np.array([10 for i in range(len(b_id))])\n",
        "pred = model.predict([book_arr, user])\n",
        "pred"
      ],
      "metadata": {
        "colab": {
          "base_uri": "https://localhost:8080/"
        },
        "id": "9WjUPAupFUVH",
        "outputId": "d58b385b-d81d-47dc-aa0f-b5ab1ad5bc26"
      },
      "execution_count": 19,
      "outputs": [
        {
          "output_type": "stream",
          "name": "stdout",
          "text": [
            "313/313 [==============================] - 1s 2ms/step\n"
          ]
        },
        {
          "output_type": "execute_result",
          "data": {
            "text/plain": [
              "array([[4.3821144],\n",
              "       [4.287038 ],\n",
              "       [3.8581321],\n",
              "       ...,\n",
              "       [4.1762314],\n",
              "       [4.1312137],\n",
              "       [3.973931 ]], dtype=float32)"
            ]
          },
          "metadata": {},
          "execution_count": 19
        }
      ]
    },
    {
      "cell_type": "code",
      "source": [
        "pred = pred.reshape(-1) #reshape to single dimension\n",
        "pred_ids = (-pred).argsort()[0:5]\n",
        "pred_ids"
      ],
      "metadata": {
        "colab": {
          "base_uri": "https://localhost:8080/"
        },
        "id": "7LA817r8Fa4S",
        "outputId": "f1bbb8b8-7d02-43e2-f91d-d3b1685caad5"
      },
      "execution_count": 20,
      "outputs": [
        {
          "output_type": "execute_result",
          "data": {
            "text/plain": [
              "array([8814,  957, 9568, 1758, 3917])"
            ]
          },
          "metadata": {},
          "execution_count": 20
        }
      ]
    },
    {
      "cell_type": "code",
      "source": [
        "books_df.iloc[pred_ids]"
      ],
      "metadata": {
        "colab": {
          "base_uri": "https://localhost:8080/",
          "height": 508
        },
        "id": "sD-cJMXHFcKv",
        "outputId": "f8f688dc-1ea7-4a43-c001-9c6f876f1b35"
      },
      "execution_count": 21,
      "outputs": [
        {
          "output_type": "execute_result",
          "data": {
            "text/plain": [
              "        id   book_id  best_book_id   work_id  books_count        isbn  \\\n",
              "8814  8815    436806        436806    616919           58   872862097   \n",
              "957    958      3579          3579      7365           40   553609416   \n",
              "9568  9569  32075671      32075671  49638190           36    62498533   \n",
              "1758  1759    121127        121127   1492897           45  081257639X   \n",
              "3917  3918    228261        228261    122831           36   842329250   \n",
              "\n",
              "            isbn13                                            authors  \\\n",
              "8814  9.780873e+12  Georges Bataille, Joachim Neugroschel, Dovid B...   \n",
              "957   7.678361e+10                                    L.M. Montgomery   \n",
              "9568  9.780062e+12                                       Angie Thomas   \n",
              "1758  9.780813e+12                                     Terry Goodkind   \n",
              "3917  9.780842e+12                       Tim LaHaye, Jerry B. Jenkins   \n",
              "\n",
              "      original_publication_year                               original_title  \\\n",
              "8814                     1928.0                           Histoire de l'oeil   \n",
              "957                      1908.0  The Complete Anne of Green Gables Boxed Set   \n",
              "9568                     2017.0                              The Hate U Give   \n",
              "1758                     2000.0    Faith of the Fallen  (Sword of Truth, #6)   \n",
              "3917                     1998.0          Soul Harvest: The World Takes Sides   \n",
              "\n",
              "      ... ratings_count work_ratings_count  work_text_reviews_count  \\\n",
              "8814  ...          9227              10955                      906   \n",
              "957   ...         92142              93067                     1438   \n",
              "9568  ...         32610              38333                     9038   \n",
              "1758  ...         53676              56403                      987   \n",
              "3917  ...         25675              26752                      451   \n",
              "\n",
              "      ratings_1  ratings_2  ratings_3  ratings_4  ratings_5  \\\n",
              "8814        517       1009       2697       3644       3088   \n",
              "957        1395       1991       9286      23394      57001   \n",
              "9568        208        321       1814       9207      26783   \n",
              "1758       1335       3030       9648      16346      26044   \n",
              "3917        647       1595       6083       8553       9874   \n",
              "\n",
              "                                              image_url  \\\n",
              "8814  https://images.gr-assets.com/books/1490682356m...   \n",
              "957   https://images.gr-assets.com/books/1267721500m...   \n",
              "9568  https://images.gr-assets.com/books/1476284759m...   \n",
              "1758  https://s.gr-assets.com/assets/nophoto/book/11...   \n",
              "3917  https://images.gr-assets.com/books/1406513506m...   \n",
              "\n",
              "                                        small_image_url  \n",
              "8814  https://images.gr-assets.com/books/1490682356s...  \n",
              "957   https://images.gr-assets.com/books/1267721500s...  \n",
              "9568  https://images.gr-assets.com/books/1476284759s...  \n",
              "1758  https://s.gr-assets.com/assets/nophoto/book/50...  \n",
              "3917  https://images.gr-assets.com/books/1406513506s...  \n",
              "\n",
              "[5 rows x 23 columns]"
            ],
            "text/html": [
              "\n",
              "  <div id=\"df-6bed25d1-16c1-4eaa-99ba-696c3d16f22c\">\n",
              "    <div class=\"colab-df-container\">\n",
              "      <div>\n",
              "<style scoped>\n",
              "    .dataframe tbody tr th:only-of-type {\n",
              "        vertical-align: middle;\n",
              "    }\n",
              "\n",
              "    .dataframe tbody tr th {\n",
              "        vertical-align: top;\n",
              "    }\n",
              "\n",
              "    .dataframe thead th {\n",
              "        text-align: right;\n",
              "    }\n",
              "</style>\n",
              "<table border=\"1\" class=\"dataframe\">\n",
              "  <thead>\n",
              "    <tr style=\"text-align: right;\">\n",
              "      <th></th>\n",
              "      <th>id</th>\n",
              "      <th>book_id</th>\n",
              "      <th>best_book_id</th>\n",
              "      <th>work_id</th>\n",
              "      <th>books_count</th>\n",
              "      <th>isbn</th>\n",
              "      <th>isbn13</th>\n",
              "      <th>authors</th>\n",
              "      <th>original_publication_year</th>\n",
              "      <th>original_title</th>\n",
              "      <th>...</th>\n",
              "      <th>ratings_count</th>\n",
              "      <th>work_ratings_count</th>\n",
              "      <th>work_text_reviews_count</th>\n",
              "      <th>ratings_1</th>\n",
              "      <th>ratings_2</th>\n",
              "      <th>ratings_3</th>\n",
              "      <th>ratings_4</th>\n",
              "      <th>ratings_5</th>\n",
              "      <th>image_url</th>\n",
              "      <th>small_image_url</th>\n",
              "    </tr>\n",
              "  </thead>\n",
              "  <tbody>\n",
              "    <tr>\n",
              "      <th>8814</th>\n",
              "      <td>8815</td>\n",
              "      <td>436806</td>\n",
              "      <td>436806</td>\n",
              "      <td>616919</td>\n",
              "      <td>58</td>\n",
              "      <td>872862097</td>\n",
              "      <td>9.780873e+12</td>\n",
              "      <td>Georges Bataille, Joachim Neugroschel, Dovid B...</td>\n",
              "      <td>1928.0</td>\n",
              "      <td>Histoire de l'oeil</td>\n",
              "      <td>...</td>\n",
              "      <td>9227</td>\n",
              "      <td>10955</td>\n",
              "      <td>906</td>\n",
              "      <td>517</td>\n",
              "      <td>1009</td>\n",
              "      <td>2697</td>\n",
              "      <td>3644</td>\n",
              "      <td>3088</td>\n",
              "      <td>https://images.gr-assets.com/books/1490682356m...</td>\n",
              "      <td>https://images.gr-assets.com/books/1490682356s...</td>\n",
              "    </tr>\n",
              "    <tr>\n",
              "      <th>957</th>\n",
              "      <td>958</td>\n",
              "      <td>3579</td>\n",
              "      <td>3579</td>\n",
              "      <td>7365</td>\n",
              "      <td>40</td>\n",
              "      <td>553609416</td>\n",
              "      <td>7.678361e+10</td>\n",
              "      <td>L.M. Montgomery</td>\n",
              "      <td>1908.0</td>\n",
              "      <td>The Complete Anne of Green Gables Boxed Set</td>\n",
              "      <td>...</td>\n",
              "      <td>92142</td>\n",
              "      <td>93067</td>\n",
              "      <td>1438</td>\n",
              "      <td>1395</td>\n",
              "      <td>1991</td>\n",
              "      <td>9286</td>\n",
              "      <td>23394</td>\n",
              "      <td>57001</td>\n",
              "      <td>https://images.gr-assets.com/books/1267721500m...</td>\n",
              "      <td>https://images.gr-assets.com/books/1267721500s...</td>\n",
              "    </tr>\n",
              "    <tr>\n",
              "      <th>9568</th>\n",
              "      <td>9569</td>\n",
              "      <td>32075671</td>\n",
              "      <td>32075671</td>\n",
              "      <td>49638190</td>\n",
              "      <td>36</td>\n",
              "      <td>62498533</td>\n",
              "      <td>9.780062e+12</td>\n",
              "      <td>Angie Thomas</td>\n",
              "      <td>2017.0</td>\n",
              "      <td>The Hate U Give</td>\n",
              "      <td>...</td>\n",
              "      <td>32610</td>\n",
              "      <td>38333</td>\n",
              "      <td>9038</td>\n",
              "      <td>208</td>\n",
              "      <td>321</td>\n",
              "      <td>1814</td>\n",
              "      <td>9207</td>\n",
              "      <td>26783</td>\n",
              "      <td>https://images.gr-assets.com/books/1476284759m...</td>\n",
              "      <td>https://images.gr-assets.com/books/1476284759s...</td>\n",
              "    </tr>\n",
              "    <tr>\n",
              "      <th>1758</th>\n",
              "      <td>1759</td>\n",
              "      <td>121127</td>\n",
              "      <td>121127</td>\n",
              "      <td>1492897</td>\n",
              "      <td>45</td>\n",
              "      <td>081257639X</td>\n",
              "      <td>9.780813e+12</td>\n",
              "      <td>Terry Goodkind</td>\n",
              "      <td>2000.0</td>\n",
              "      <td>Faith of the Fallen  (Sword of Truth, #6)</td>\n",
              "      <td>...</td>\n",
              "      <td>53676</td>\n",
              "      <td>56403</td>\n",
              "      <td>987</td>\n",
              "      <td>1335</td>\n",
              "      <td>3030</td>\n",
              "      <td>9648</td>\n",
              "      <td>16346</td>\n",
              "      <td>26044</td>\n",
              "      <td>https://s.gr-assets.com/assets/nophoto/book/11...</td>\n",
              "      <td>https://s.gr-assets.com/assets/nophoto/book/50...</td>\n",
              "    </tr>\n",
              "    <tr>\n",
              "      <th>3917</th>\n",
              "      <td>3918</td>\n",
              "      <td>228261</td>\n",
              "      <td>228261</td>\n",
              "      <td>122831</td>\n",
              "      <td>36</td>\n",
              "      <td>842329250</td>\n",
              "      <td>9.780842e+12</td>\n",
              "      <td>Tim LaHaye, Jerry B. Jenkins</td>\n",
              "      <td>1998.0</td>\n",
              "      <td>Soul Harvest: The World Takes Sides</td>\n",
              "      <td>...</td>\n",
              "      <td>25675</td>\n",
              "      <td>26752</td>\n",
              "      <td>451</td>\n",
              "      <td>647</td>\n",
              "      <td>1595</td>\n",
              "      <td>6083</td>\n",
              "      <td>8553</td>\n",
              "      <td>9874</td>\n",
              "      <td>https://images.gr-assets.com/books/1406513506m...</td>\n",
              "      <td>https://images.gr-assets.com/books/1406513506s...</td>\n",
              "    </tr>\n",
              "  </tbody>\n",
              "</table>\n",
              "<p>5 rows × 23 columns</p>\n",
              "</div>\n",
              "      <button class=\"colab-df-convert\" onclick=\"convertToInteractive('df-6bed25d1-16c1-4eaa-99ba-696c3d16f22c')\"\n",
              "              title=\"Convert this dataframe to an interactive table.\"\n",
              "              style=\"display:none;\">\n",
              "        \n",
              "  <svg xmlns=\"http://www.w3.org/2000/svg\" height=\"24px\"viewBox=\"0 0 24 24\"\n",
              "       width=\"24px\">\n",
              "    <path d=\"M0 0h24v24H0V0z\" fill=\"none\"/>\n",
              "    <path d=\"M18.56 5.44l.94 2.06.94-2.06 2.06-.94-2.06-.94-.94-2.06-.94 2.06-2.06.94zm-11 1L8.5 8.5l.94-2.06 2.06-.94-2.06-.94L8.5 2.5l-.94 2.06-2.06.94zm10 10l.94 2.06.94-2.06 2.06-.94-2.06-.94-.94-2.06-.94 2.06-2.06.94z\"/><path d=\"M17.41 7.96l-1.37-1.37c-.4-.4-.92-.59-1.43-.59-.52 0-1.04.2-1.43.59L10.3 9.45l-7.72 7.72c-.78.78-.78 2.05 0 2.83L4 21.41c.39.39.9.59 1.41.59.51 0 1.02-.2 1.41-.59l7.78-7.78 2.81-2.81c.8-.78.8-2.07 0-2.86zM5.41 20L4 18.59l7.72-7.72 1.47 1.35L5.41 20z\"/>\n",
              "  </svg>\n",
              "      </button>\n",
              "      \n",
              "  <style>\n",
              "    .colab-df-container {\n",
              "      display:flex;\n",
              "      flex-wrap:wrap;\n",
              "      gap: 12px;\n",
              "    }\n",
              "\n",
              "    .colab-df-convert {\n",
              "      background-color: #E8F0FE;\n",
              "      border: none;\n",
              "      border-radius: 50%;\n",
              "      cursor: pointer;\n",
              "      display: none;\n",
              "      fill: #1967D2;\n",
              "      height: 32px;\n",
              "      padding: 0 0 0 0;\n",
              "      width: 32px;\n",
              "    }\n",
              "\n",
              "    .colab-df-convert:hover {\n",
              "      background-color: #E2EBFA;\n",
              "      box-shadow: 0px 1px 2px rgba(60, 64, 67, 0.3), 0px 1px 3px 1px rgba(60, 64, 67, 0.15);\n",
              "      fill: #174EA6;\n",
              "    }\n",
              "\n",
              "    [theme=dark] .colab-df-convert {\n",
              "      background-color: #3B4455;\n",
              "      fill: #D2E3FC;\n",
              "    }\n",
              "\n",
              "    [theme=dark] .colab-df-convert:hover {\n",
              "      background-color: #434B5C;\n",
              "      box-shadow: 0px 1px 3px 1px rgba(0, 0, 0, 0.15);\n",
              "      filter: drop-shadow(0px 1px 2px rgba(0, 0, 0, 0.3));\n",
              "      fill: #FFFFFF;\n",
              "    }\n",
              "  </style>\n",
              "\n",
              "      <script>\n",
              "        const buttonEl =\n",
              "          document.querySelector('#df-6bed25d1-16c1-4eaa-99ba-696c3d16f22c button.colab-df-convert');\n",
              "        buttonEl.style.display =\n",
              "          google.colab.kernel.accessAllowed ? 'block' : 'none';\n",
              "\n",
              "        async function convertToInteractive(key) {\n",
              "          const element = document.querySelector('#df-6bed25d1-16c1-4eaa-99ba-696c3d16f22c');\n",
              "          const dataTable =\n",
              "            await google.colab.kernel.invokeFunction('convertToInteractive',\n",
              "                                                     [key], {});\n",
              "          if (!dataTable) return;\n",
              "\n",
              "          const docLinkHtml = 'Like what you see? Visit the ' +\n",
              "            '<a target=\"_blank\" href=https://colab.research.google.com/notebooks/data_table.ipynb>data table notebook</a>'\n",
              "            + ' to learn more about interactive tables.';\n",
              "          element.innerHTML = '';\n",
              "          dataTable['output_type'] = 'display_data';\n",
              "          await google.colab.output.renderOutput(dataTable, element);\n",
              "          const docLink = document.createElement('div');\n",
              "          docLink.innerHTML = docLinkHtml;\n",
              "          element.appendChild(docLink);\n",
              "        }\n",
              "      </script>\n",
              "    </div>\n",
              "  </div>\n",
              "  "
            ]
          },
          "metadata": {},
          "execution_count": 21
        }
      ]
    },
    {
      "cell_type": "code",
      "source": [
        "web_book_data = books_df[[\"book_id\", \"title\", \"image_url\", \"authors\"]]\n",
        "web_book_data = web_book_data.sort_values('book_id')\n",
        "web_book_data.head()"
      ],
      "metadata": {
        "colab": {
          "base_uri": "https://localhost:8080/",
          "height": 206
        },
        "id": "3QN4-WtwFdt5",
        "outputId": "cea5b5a3-5af7-47f6-8be2-555a8b5af544"
      },
      "execution_count": 22,
      "outputs": [
        {
          "output_type": "execute_result",
          "data": {
            "text/plain": [
              "    book_id                                              title  \\\n",
              "26        1  Harry Potter and the Half-Blood Prince (Harry ...   \n",
              "20        2  Harry Potter and the Order of the Phoenix (Har...   \n",
              "1         3  Harry Potter and the Sorcerer's Stone (Harry P...   \n",
              "17        5  Harry Potter and the Prisoner of Azkaban (Harr...   \n",
              "23        6  Harry Potter and the Goblet of Fire (Harry Pot...   \n",
              "\n",
              "                                            image_url  \\\n",
              "26  https://images.gr-assets.com/books/1361039191m...   \n",
              "20  https://images.gr-assets.com/books/1387141547m...   \n",
              "1   https://images.gr-assets.com/books/1474154022m...   \n",
              "17  https://images.gr-assets.com/books/1499277281m...   \n",
              "23  https://images.gr-assets.com/books/1361482611m...   \n",
              "\n",
              "                                    authors  \n",
              "26              J.K. Rowling, Mary GrandPré  \n",
              "20              J.K. Rowling, Mary GrandPré  \n",
              "1               J.K. Rowling, Mary GrandPré  \n",
              "17  J.K. Rowling, Mary GrandPré, Rufus Beck  \n",
              "23              J.K. Rowling, Mary GrandPré  "
            ],
            "text/html": [
              "\n",
              "  <div id=\"df-5b35be02-90bc-4a61-8225-372b5676d101\">\n",
              "    <div class=\"colab-df-container\">\n",
              "      <div>\n",
              "<style scoped>\n",
              "    .dataframe tbody tr th:only-of-type {\n",
              "        vertical-align: middle;\n",
              "    }\n",
              "\n",
              "    .dataframe tbody tr th {\n",
              "        vertical-align: top;\n",
              "    }\n",
              "\n",
              "    .dataframe thead th {\n",
              "        text-align: right;\n",
              "    }\n",
              "</style>\n",
              "<table border=\"1\" class=\"dataframe\">\n",
              "  <thead>\n",
              "    <tr style=\"text-align: right;\">\n",
              "      <th></th>\n",
              "      <th>book_id</th>\n",
              "      <th>title</th>\n",
              "      <th>image_url</th>\n",
              "      <th>authors</th>\n",
              "    </tr>\n",
              "  </thead>\n",
              "  <tbody>\n",
              "    <tr>\n",
              "      <th>26</th>\n",
              "      <td>1</td>\n",
              "      <td>Harry Potter and the Half-Blood Prince (Harry ...</td>\n",
              "      <td>https://images.gr-assets.com/books/1361039191m...</td>\n",
              "      <td>J.K. Rowling, Mary GrandPré</td>\n",
              "    </tr>\n",
              "    <tr>\n",
              "      <th>20</th>\n",
              "      <td>2</td>\n",
              "      <td>Harry Potter and the Order of the Phoenix (Har...</td>\n",
              "      <td>https://images.gr-assets.com/books/1387141547m...</td>\n",
              "      <td>J.K. Rowling, Mary GrandPré</td>\n",
              "    </tr>\n",
              "    <tr>\n",
              "      <th>1</th>\n",
              "      <td>3</td>\n",
              "      <td>Harry Potter and the Sorcerer's Stone (Harry P...</td>\n",
              "      <td>https://images.gr-assets.com/books/1474154022m...</td>\n",
              "      <td>J.K. Rowling, Mary GrandPré</td>\n",
              "    </tr>\n",
              "    <tr>\n",
              "      <th>17</th>\n",
              "      <td>5</td>\n",
              "      <td>Harry Potter and the Prisoner of Azkaban (Harr...</td>\n",
              "      <td>https://images.gr-assets.com/books/1499277281m...</td>\n",
              "      <td>J.K. Rowling, Mary GrandPré, Rufus Beck</td>\n",
              "    </tr>\n",
              "    <tr>\n",
              "      <th>23</th>\n",
              "      <td>6</td>\n",
              "      <td>Harry Potter and the Goblet of Fire (Harry Pot...</td>\n",
              "      <td>https://images.gr-assets.com/books/1361482611m...</td>\n",
              "      <td>J.K. Rowling, Mary GrandPré</td>\n",
              "    </tr>\n",
              "  </tbody>\n",
              "</table>\n",
              "</div>\n",
              "      <button class=\"colab-df-convert\" onclick=\"convertToInteractive('df-5b35be02-90bc-4a61-8225-372b5676d101')\"\n",
              "              title=\"Convert this dataframe to an interactive table.\"\n",
              "              style=\"display:none;\">\n",
              "        \n",
              "  <svg xmlns=\"http://www.w3.org/2000/svg\" height=\"24px\"viewBox=\"0 0 24 24\"\n",
              "       width=\"24px\">\n",
              "    <path d=\"M0 0h24v24H0V0z\" fill=\"none\"/>\n",
              "    <path d=\"M18.56 5.44l.94 2.06.94-2.06 2.06-.94-2.06-.94-.94-2.06-.94 2.06-2.06.94zm-11 1L8.5 8.5l.94-2.06 2.06-.94-2.06-.94L8.5 2.5l-.94 2.06-2.06.94zm10 10l.94 2.06.94-2.06 2.06-.94-2.06-.94-.94-2.06-.94 2.06-2.06.94z\"/><path d=\"M17.41 7.96l-1.37-1.37c-.4-.4-.92-.59-1.43-.59-.52 0-1.04.2-1.43.59L10.3 9.45l-7.72 7.72c-.78.78-.78 2.05 0 2.83L4 21.41c.39.39.9.59 1.41.59.51 0 1.02-.2 1.41-.59l7.78-7.78 2.81-2.81c.8-.78.8-2.07 0-2.86zM5.41 20L4 18.59l7.72-7.72 1.47 1.35L5.41 20z\"/>\n",
              "  </svg>\n",
              "      </button>\n",
              "      \n",
              "  <style>\n",
              "    .colab-df-container {\n",
              "      display:flex;\n",
              "      flex-wrap:wrap;\n",
              "      gap: 12px;\n",
              "    }\n",
              "\n",
              "    .colab-df-convert {\n",
              "      background-color: #E8F0FE;\n",
              "      border: none;\n",
              "      border-radius: 50%;\n",
              "      cursor: pointer;\n",
              "      display: none;\n",
              "      fill: #1967D2;\n",
              "      height: 32px;\n",
              "      padding: 0 0 0 0;\n",
              "      width: 32px;\n",
              "    }\n",
              "\n",
              "    .colab-df-convert:hover {\n",
              "      background-color: #E2EBFA;\n",
              "      box-shadow: 0px 1px 2px rgba(60, 64, 67, 0.3), 0px 1px 3px 1px rgba(60, 64, 67, 0.15);\n",
              "      fill: #174EA6;\n",
              "    }\n",
              "\n",
              "    [theme=dark] .colab-df-convert {\n",
              "      background-color: #3B4455;\n",
              "      fill: #D2E3FC;\n",
              "    }\n",
              "\n",
              "    [theme=dark] .colab-df-convert:hover {\n",
              "      background-color: #434B5C;\n",
              "      box-shadow: 0px 1px 3px 1px rgba(0, 0, 0, 0.15);\n",
              "      filter: drop-shadow(0px 1px 2px rgba(0, 0, 0, 0.3));\n",
              "      fill: #FFFFFF;\n",
              "    }\n",
              "  </style>\n",
              "\n",
              "      <script>\n",
              "        const buttonEl =\n",
              "          document.querySelector('#df-5b35be02-90bc-4a61-8225-372b5676d101 button.colab-df-convert');\n",
              "        buttonEl.style.display =\n",
              "          google.colab.kernel.accessAllowed ? 'block' : 'none';\n",
              "\n",
              "        async function convertToInteractive(key) {\n",
              "          const element = document.querySelector('#df-5b35be02-90bc-4a61-8225-372b5676d101');\n",
              "          const dataTable =\n",
              "            await google.colab.kernel.invokeFunction('convertToInteractive',\n",
              "                                                     [key], {});\n",
              "          if (!dataTable) return;\n",
              "\n",
              "          const docLinkHtml = 'Like what you see? Visit the ' +\n",
              "            '<a target=\"_blank\" href=https://colab.research.google.com/notebooks/data_table.ipynb>data table notebook</a>'\n",
              "            + ' to learn more about interactive tables.';\n",
              "          element.innerHTML = '';\n",
              "          dataTable['output_type'] = 'display_data';\n",
              "          await google.colab.output.renderOutput(dataTable, element);\n",
              "          const docLink = document.createElement('div');\n",
              "          docLink.innerHTML = docLinkHtml;\n",
              "          element.appendChild(docLink);\n",
              "        }\n",
              "      </script>\n",
              "    </div>\n",
              "  </div>\n",
              "  "
            ]
          },
          "metadata": {},
          "execution_count": 22
        }
      ]
    },
    {
      "cell_type": "code",
      "source": [
        "web_book_data.to_json(r'web_book_data.json', orient='records')"
      ],
      "metadata": {
        "id": "MVwxhr8kFfRA"
      },
      "execution_count": 23,
      "outputs": []
    }
  ]
}